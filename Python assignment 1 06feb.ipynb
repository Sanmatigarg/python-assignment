{
 "cells": [
  {
   "cell_type": "code",
   "execution_count": 1,
   "id": "012cde03",
   "metadata": {},
   "outputs": [
    {
     "name": "stdout",
     "output_type": "stream",
     "text": [
      "starting the python assignmnet with first question\n"
     ]
    }
   ],
   "source": [
    "# Question 1\n",
    "a='starting the python assignmnet with first question'\n",
    "print(a)"
   ]
  },
  {
   "cell_type": "code",
   "execution_count": 2,
   "id": "037afba1",
   "metadata": {},
   "outputs": [
    {
     "name": "stdout",
     "output_type": "stream",
     "text": [
      "starting the python assignmnet with first question\n",
      "starting with second question\n"
     ]
    }
   ],
   "source": [
    "#question 2\n",
    "print(a)\n",
    "a= 'starting with second question'\n",
    "print(a)"
   ]
  },
  {
   "cell_type": "code",
   "execution_count": 5,
   "id": "d59c7abd",
   "metadata": {},
   "outputs": [
    {
     "name": "stdout",
     "output_type": "stream",
     "text": [
      "enter person namesanmati\n",
      "Hello sanmati would you like to learn some Python today?\n"
     ]
    }
   ],
   "source": [
    "## question 3\n",
    "a=input(\"enter person name\")\n",
    "print(f'Hello {a} would you like to learn some Python today?')"
   ]
  },
  {
   "cell_type": "code",
   "execution_count": 1,
   "id": "f9eb798f",
   "metadata": {},
   "outputs": [
    {
     "name": "stdout",
     "output_type": "stream",
     "text": [
      "enter the name of author you admireAPJ\n",
      "enter the quote be the change, you wish to see in the world\n",
      "APJ said once:be the change, you wish to see in the world\n"
     ]
    }
   ],
   "source": [
    "## question 4\n",
    "a=input(\"enter the name of author you admire\")\n",
    "b= input (\"enter the quote \")\n",
    "print(a+\" said once:\"+b)"
   ]
  },
  {
   "cell_type": "code",
   "execution_count": 20,
   "id": "fb51553a",
   "metadata": {
    "scrolled": true
   },
   "outputs": [
    {
     "name": "stdout",
     "output_type": "stream",
     "text": [
      "APJ abdul kamal said once be the change, you wish to see in the world\n"
     ]
    }
   ],
   "source": [
    "a=\"APJ abdul kamal\"\n",
    "b= \"be the change, you wish to see in the world\"\n",
    "print(\"{} said once {}\".format(a,b))"
   ]
  },
  {
   "cell_type": "code",
   "execution_count": 13,
   "id": "f6137e36",
   "metadata": {},
   "outputs": [
    {
     "name": "stdout",
     "output_type": "stream",
     "text": [
      "APJ abdul kamal said once be the change, you wish to see in the world\n"
     ]
    }
   ],
   "source": [
    "a=\"APJ abdul kamal\"\n",
    "b= \"be the change, you wish to see in the world\"\n",
    "print(f\"{a} said once {b}\")"
   ]
  },
  {
   "cell_type": "code",
   "execution_count": 16,
   "id": "dd789987",
   "metadata": {},
   "outputs": [
    {
     "name": "stdout",
     "output_type": "stream",
     "text": [
      "APJ abdul kamal said once be the change, you wish to see in the world\n"
     ]
    }
   ],
   "source": [
    "##Question 5\n",
    "famous_person =\"APJ abdul kamal\"\n",
    "message = \"be the change, you wish to see in the world\"\n",
    "print(f\"{famous_person} said once {message}\")"
   ]
  },
  {
   "cell_type": "code",
   "execution_count": 19,
   "id": "e11e642d",
   "metadata": {},
   "outputs": [
    {
     "name": "stdout",
     "output_type": "stream",
     "text": [
      "8\n",
      "8\n",
      "8\n",
      "8.0\n"
     ]
    }
   ],
   "source": [
    "##question 6\n",
    "print (5+3)\n",
    "print (9-1)\n",
    "print (4*2)\n",
    "print (16/2)"
   ]
  },
  {
   "cell_type": "code",
   "execution_count": 32,
   "id": "7a4ba1f3",
   "metadata": {},
   "outputs": [
    {
     "name": "stdout",
     "output_type": "stream",
     "text": [
      "my favourite number is 7\n"
     ]
    }
   ],
   "source": [
    "##question 7\n",
    "a=7\n",
    "b= \"my favourite number\"\n",
    "print(f\"{b} is {a}\")\n"
   ]
  },
  {
   "cell_type": "markdown",
   "id": "ce3fafd5",
   "metadata": {},
   "source": [
    "# difference in () and {}\n",
    "a=7\n",
    "b= \"my favourite number\"\n",
    "print(f\"{b} is (a)\")"
   ]
  },
  {
   "cell_type": "code",
   "execution_count": 35,
   "id": "8d9df4e6",
   "metadata": {},
   "outputs": [
    {
     "name": "stdout",
     "output_type": "stream",
     "text": [
      "enter your name Sanmati\n",
      "enter the date in format [DD/MM/YY]: 13/feb/2022\n",
      "program gives your name Sanmati and date 13/feb/2022\n"
     ]
    }
   ],
   "source": [
    "##question 8\n",
    "a= input(\"enter your name \")\n",
    "b= input (\"enter the date in format [DD/MM/YY]: \")\n",
    "print( \"program gives your name {} and date {}\". format(a,b))\n"
   ]
  },
  {
   "cell_type": "code",
   "execution_count": 37,
   "id": "b2670fb2",
   "metadata": {},
   "outputs": [
    {
     "name": "stdout",
     "output_type": "stream",
     "text": [
      "Sam\n",
      "Sagar\n",
      "Ram\n",
      "Raj\n",
      "Ravi\n"
     ]
    }
   ],
   "source": [
    "## question 9\n",
    "\n",
    "Names = ['Sam', 'Sagar', 'Ram', 'Raj', 'Ravi']\n",
    "for I in Names:\n",
    "    print(I)"
   ]
  },
  {
   "cell_type": "code",
   "execution_count": 40,
   "id": "a49b88c6",
   "metadata": {},
   "outputs": [
    {
     "name": "stdout",
     "output_type": "stream",
     "text": [
      "Sam is my friend\n",
      "Sagar is my friend\n",
      "Ram is my friend\n",
      "Raj is my friend\n",
      "Ravi is my friend\n"
     ]
    }
   ],
   "source": [
    "## question 10\n",
    "Names = ['Sam', 'Sagar', 'Ram', 'Raj', 'Ravi']\n",
    "for I in Names:\n",
    "    print(f'{I} is my friend')"
   ]
  },
  {
   "cell_type": "code",
   "execution_count": 43,
   "id": "70fb5abb",
   "metadata": {},
   "outputs": [
    {
     "name": "stdout",
     "output_type": "stream",
     "text": [
      "i want to own a   car\n",
      "i want to own a M car\n",
      "i want to own a a car\n",
      "i want to own a r car\n",
      "i want to own a u car\n",
      "i want to own a t car\n",
      "i want to own a i car\n",
      "i want to own a , car\n",
      "i want to own a   car\n",
      "i want to own a h car\n",
      "i want to own a y car\n",
      "i want to own a u car\n",
      "i want to own a n car\n",
      "i want to own a d car\n",
      "i want to own a a car\n",
      "i want to own a i car\n",
      "i want to own a , car\n",
      "i want to own a   car\n",
      "i want to own a h car\n",
      "i want to own a o car\n",
      "i want to own a n car\n",
      "i want to own a d car\n",
      "i want to own a a car\n",
      "i want to own a , car\n",
      "i want to own a   car\n",
      "i want to own a t car\n",
      "i want to own a a car\n",
      "i want to own a t car\n",
      "i want to own a a car\n",
      "i want to own a , car\n",
      "i want to own a   car\n",
      "i want to own a m car\n",
      "i want to own a a car\n",
      "i want to own a h car\n",
      "i want to own a i car\n",
      "i want to own a n car\n",
      "i want to own a d car\n",
      "i want to own a r car\n",
      "i want to own a a car\n"
     ]
    }
   ],
   "source": [
    "## question 11\n",
    "Store= (\" Maruti, hyundai, honda, tata, mahindra\")\n",
    "for a in Store:\n",
    "    print(f\"i want to own a {a} car\")"
   ]
  },
  {
   "cell_type": "markdown",
   "id": "a9dc38a3",
   "metadata": {},
   "source": [
    "# difference in () and []\n",
    "\n"
   ]
  },
  {
   "cell_type": "code",
   "execution_count": 46,
   "id": "863b4db9",
   "metadata": {},
   "outputs": [
    {
     "name": "stdout",
     "output_type": "stream",
     "text": [
      "i want to own a Maruti car\n",
      "i want to own a hyundai car\n",
      "i want to own a honda car\n",
      "i want to own a tata car\n",
      "i want to own a mahindra car\n"
     ]
    }
   ],
   "source": [
    "Store= [\"Maruti\", \"hyundai\", \"honda\", \"tata\", \"mahindra\"]\n",
    "for a in Store:\n",
    "    print(f\"i want to own a {a} car\")"
   ]
  }
 ],
 "metadata": {
  "kernelspec": {
   "display_name": "Python 3 (ipykernel)",
   "language": "python",
   "name": "python3"
  },
  "language_info": {
   "codemirror_mode": {
    "name": "ipython",
    "version": 3
   },
   "file_extension": ".py",
   "mimetype": "text/x-python",
   "name": "python",
   "nbconvert_exporter": "python",
   "pygments_lexer": "ipython3",
   "version": "3.9.7"
  }
 },
 "nbformat": 4,
 "nbformat_minor": 5
}
